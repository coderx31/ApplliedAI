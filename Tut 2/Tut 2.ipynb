{
 "cells": [
  {
   "cell_type": "code",
   "execution_count": 1,
   "id": "a96d1ee3",
   "metadata": {},
   "outputs": [
    {
     "name": "stdout",
     "output_type": "stream",
     "text": [
      "shenal\n"
     ]
    }
   ],
   "source": [
    "print('shenal')"
   ]
  },
  {
   "cell_type": "code",
   "execution_count": 2,
   "id": "ef07382a",
   "metadata": {},
   "outputs": [
    {
     "name": "stdout",
     "output_type": "stream",
     "text": [
      "The rain fell on the car. The rain fell on the ground.\n",
      "\n"
     ]
    }
   ],
   "source": [
    "f = open('./file.txt', 'r');\n",
    "data = f.read();\n",
    "print(data)"
   ]
  },
  {
   "cell_type": "code",
   "execution_count": 3,
   "id": "f9b5221a",
   "metadata": {},
   "outputs": [
    {
     "name": "stdout",
     "output_type": "stream",
     "text": [
      "T\n"
     ]
    }
   ],
   "source": [
    "f = open('./file.txt', 'r');\n",
    "data = f.read();\n",
    "print(data[0])"
   ]
  },
  {
   "cell_type": "code",
   "execution_count": 4,
   "id": "19cc2015",
   "metadata": {},
   "outputs": [
    {
     "name": "stdout",
     "output_type": "stream",
     "text": [
      "The\n"
     ]
    }
   ],
   "source": [
    "f = open('./file.txt', 'r');\n",
    "data = f.read();\n",
    "arr = data.split(\" \");\n",
    "print(arr[0])"
   ]
  },
  {
   "cell_type": "code",
   "execution_count": 6,
   "id": "c9f84d8f",
   "metadata": {},
   "outputs": [
    {
     "name": "stdout",
     "output_type": "stream",
     "text": [
      "{'The': 2, 'rain': 2, 'fell': 2, 'on': 2, 'the': 2, 'car.': 1, 'ground.\\n': 1}\n"
     ]
    }
   ],
   "source": [
    "f = open('./file.txt', 'r');\n",
    "data = f.read();\n",
    "arr = data.split(\" \");\n",
    "counts = dict();\n",
    "for word in arr:\n",
    "    if word in counts:\n",
    "        counts[word] += 1\n",
    "    else:\n",
    "        counts[word] = 1\n",
    "\n",
    "print(counts)\n",
    "        "
   ]
  },
  {
   "cell_type": "code",
   "execution_count": null,
   "id": "a7067580",
   "metadata": {},
   "outputs": [],
   "source": []
  }
 ],
 "metadata": {
  "kernelspec": {
   "display_name": "Python 3 (ipykernel)",
   "language": "python",
   "name": "python3"
  },
  "language_info": {
   "codemirror_mode": {
    "name": "ipython",
    "version": 3
   },
   "file_extension": ".py",
   "mimetype": "text/x-python",
   "name": "python",
   "nbconvert_exporter": "python",
   "pygments_lexer": "ipython3",
   "version": "3.9.12"
  }
 },
 "nbformat": 4,
 "nbformat_minor": 5
}
