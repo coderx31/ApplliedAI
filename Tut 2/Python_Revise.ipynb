{
 "cells": [
  {
   "cell_type": "code",
   "execution_count": 1,
   "id": "c54b69b5",
   "metadata": {},
   "outputs": [
    {
     "name": "stdout",
     "output_type": "stream",
     "text": [
      "3.9.12 (main, Apr  5 2022, 01:53:17) \n",
      "[Clang 12.0.0 ]\n",
      "['/Users/shenalfernando/Documents/projects/Applied AI/Tut 2', '/opt/anaconda3/lib/python39.zip', '/opt/anaconda3/lib/python3.9', '/opt/anaconda3/lib/python3.9/lib-dynload', '', '/opt/anaconda3/lib/python3.9/site-packages', '/opt/anaconda3/lib/python3.9/site-packages/aeosa']\n"
     ]
    }
   ],
   "source": [
    "import sys\n",
    "print(sys.version)\n",
    "print(sys.path)"
   ]
  },
  {
   "cell_type": "code",
   "execution_count": 3,
   "id": "42bc921c",
   "metadata": {},
   "outputs": [
    {
     "name": "stdout",
     "output_type": "stream",
     "text": [
      "Article is sing python version 3.9.12 (main, Apr  5 2022, 01:53:17) \n",
      "[Clang 12.0.0 ] on this machine\n"
     ]
    }
   ],
   "source": [
    "import sys\n",
    "print(f'Article is sing python version {sys.version} on this machine')"
   ]
  },
  {
   "cell_type": "code",
   "execution_count": 4,
   "id": "38f44be0",
   "metadata": {},
   "outputs": [
    {
     "name": "stdout",
     "output_type": "stream",
     "text": [
      "hello\n"
     ]
    }
   ],
   "source": [
    "print('hello')"
   ]
  },
  {
   "cell_type": "code",
   "execution_count": 5,
   "id": "3f081c5b",
   "metadata": {},
   "outputs": [
    {
     "data": {
      "text/plain": [
       "'/Users/shenalfernando/Documents/projects/Applied AI/Tut 2'"
      ]
     },
     "execution_count": 5,
     "metadata": {},
     "output_type": "execute_result"
    }
   ],
   "source": [
    "pwd"
   ]
  },
  {
   "cell_type": "code",
   "execution_count": 6,
   "id": "19030a50",
   "metadata": {},
   "outputs": [
    {
     "data": {
      "application/json": {
       "cell": {
        "!": "OSMagics",
        "HTML": "Other",
        "SVG": "Other",
        "bash": "Other",
        "capture": "ExecutionMagics",
        "debug": "ExecutionMagics",
        "file": "Other",
        "html": "DisplayMagics",
        "javascript": "DisplayMagics",
        "js": "DisplayMagics",
        "latex": "DisplayMagics",
        "markdown": "DisplayMagics",
        "perl": "Other",
        "prun": "ExecutionMagics",
        "pypy": "Other",
        "python": "Other",
        "python2": "Other",
        "python3": "Other",
        "ruby": "Other",
        "script": "ScriptMagics",
        "sh": "Other",
        "svg": "DisplayMagics",
        "sx": "OSMagics",
        "system": "OSMagics",
        "time": "ExecutionMagics",
        "timeit": "ExecutionMagics",
        "writefile": "OSMagics"
       },
       "line": {
        "alias": "OSMagics",
        "alias_magic": "BasicMagics",
        "autoawait": "AsyncMagics",
        "autocall": "AutoMagics",
        "automagic": "AutoMagics",
        "autosave": "KernelMagics",
        "bookmark": "OSMagics",
        "cat": "Other",
        "cd": "OSMagics",
        "clear": "KernelMagics",
        "colors": "BasicMagics",
        "conda": "PackagingMagics",
        "config": "ConfigMagics",
        "connect_info": "KernelMagics",
        "cp": "Other",
        "debug": "ExecutionMagics",
        "dhist": "OSMagics",
        "dirs": "OSMagics",
        "doctest_mode": "BasicMagics",
        "ed": "Other",
        "edit": "KernelMagics",
        "env": "OSMagics",
        "gui": "BasicMagics",
        "hist": "Other",
        "history": "HistoryMagics",
        "killbgscripts": "ScriptMagics",
        "ldir": "Other",
        "less": "KernelMagics",
        "lf": "Other",
        "lk": "Other",
        "ll": "Other",
        "load": "CodeMagics",
        "load_ext": "ExtensionMagics",
        "loadpy": "CodeMagics",
        "logoff": "LoggingMagics",
        "logon": "LoggingMagics",
        "logstart": "LoggingMagics",
        "logstate": "LoggingMagics",
        "logstop": "LoggingMagics",
        "ls": "Other",
        "lsmagic": "BasicMagics",
        "lx": "Other",
        "macro": "ExecutionMagics",
        "magic": "BasicMagics",
        "man": "KernelMagics",
        "matplotlib": "PylabMagics",
        "mkdir": "Other",
        "more": "KernelMagics",
        "mv": "Other",
        "notebook": "BasicMagics",
        "page": "BasicMagics",
        "pastebin": "CodeMagics",
        "pdb": "ExecutionMagics",
        "pdef": "NamespaceMagics",
        "pdoc": "NamespaceMagics",
        "pfile": "NamespaceMagics",
        "pinfo": "NamespaceMagics",
        "pinfo2": "NamespaceMagics",
        "pip": "PackagingMagics",
        "popd": "OSMagics",
        "pprint": "BasicMagics",
        "precision": "BasicMagics",
        "prun": "ExecutionMagics",
        "psearch": "NamespaceMagics",
        "psource": "NamespaceMagics",
        "pushd": "OSMagics",
        "pwd": "OSMagics",
        "pycat": "OSMagics",
        "pylab": "PylabMagics",
        "qtconsole": "KernelMagics",
        "quickref": "BasicMagics",
        "recall": "HistoryMagics",
        "rehashx": "OSMagics",
        "reload_ext": "ExtensionMagics",
        "rep": "Other",
        "rerun": "HistoryMagics",
        "reset": "NamespaceMagics",
        "reset_selective": "NamespaceMagics",
        "rm": "Other",
        "rmdir": "Other",
        "run": "ExecutionMagics",
        "save": "CodeMagics",
        "sc": "OSMagics",
        "set_env": "OSMagics",
        "store": "StoreMagics",
        "sx": "OSMagics",
        "system": "OSMagics",
        "tb": "ExecutionMagics",
        "time": "ExecutionMagics",
        "timeit": "ExecutionMagics",
        "unalias": "OSMagics",
        "unload_ext": "ExtensionMagics",
        "who": "NamespaceMagics",
        "who_ls": "NamespaceMagics",
        "whos": "NamespaceMagics",
        "xdel": "NamespaceMagics",
        "xmode": "BasicMagics"
       }
      },
      "text/plain": [
       "Available line magics:\n",
       "%alias  %alias_magic  %autoawait  %autocall  %automagic  %autosave  %bookmark  %cat  %cd  %clear  %colors  %conda  %config  %connect_info  %cp  %debug  %dhist  %dirs  %doctest_mode  %ed  %edit  %env  %gui  %hist  %history  %killbgscripts  %ldir  %less  %lf  %lk  %ll  %load  %load_ext  %loadpy  %logoff  %logon  %logstart  %logstate  %logstop  %ls  %lsmagic  %lx  %macro  %magic  %man  %matplotlib  %mkdir  %more  %mv  %notebook  %page  %pastebin  %pdb  %pdef  %pdoc  %pfile  %pinfo  %pinfo2  %pip  %popd  %pprint  %precision  %prun  %psearch  %psource  %pushd  %pwd  %pycat  %pylab  %qtconsole  %quickref  %recall  %rehashx  %reload_ext  %rep  %rerun  %reset  %reset_selective  %rm  %rmdir  %run  %save  %sc  %set_env  %store  %sx  %system  %tb  %time  %timeit  %unalias  %unload_ext  %who  %who_ls  %whos  %xdel  %xmode\n",
       "\n",
       "Available cell magics:\n",
       "%%!  %%HTML  %%SVG  %%bash  %%capture  %%debug  %%file  %%html  %%javascript  %%js  %%latex  %%markdown  %%perl  %%prun  %%pypy  %%python  %%python2  %%python3  %%ruby  %%script  %%sh  %%svg  %%sx  %%system  %%time  %%timeit  %%writefile\n",
       "\n",
       "Automagic is ON, % prefix IS NOT needed for line magics."
      ]
     },
     "execution_count": 6,
     "metadata": {},
     "output_type": "execute_result"
    }
   ],
   "source": [
    "lsmagic"
   ]
  },
  {
   "cell_type": "code",
   "execution_count": 7,
   "id": "4d74b0e9",
   "metadata": {},
   "outputs": [
    {
     "name": "stdout",
     "output_type": "stream",
     "text": [
      "2\n"
     ]
    }
   ],
   "source": [
    "print(1+1)"
   ]
  },
  {
   "cell_type": "code",
   "execution_count": 8,
   "id": "41e8ba40",
   "metadata": {},
   "outputs": [
    {
     "name": "stdout",
     "output_type": "stream",
     "text": [
      "5\n"
     ]
    }
   ],
   "source": [
    "print(2+3)"
   ]
  },
  {
   "cell_type": "code",
   "execution_count": 9,
   "id": "64291f68",
   "metadata": {},
   "outputs": [
    {
     "name": "stdout",
     "output_type": "stream",
     "text": [
      "False\n",
      "True\n",
      "False\n",
      "True\n"
     ]
    }
   ],
   "source": [
    "print(1==0)\n",
    "print(False == 0)\n",
    "print(True == 8)\n",
    "print(\"hello\" == 'hello')"
   ]
  },
  {
   "cell_type": "code",
   "execution_count": 10,
   "id": "31d8e422",
   "metadata": {},
   "outputs": [
    {
     "name": "stdout",
     "output_type": "stream",
     "text": [
      "6COCS020W Applied AI!!!\n",
      "APPLIED AI\n",
      "23\n"
     ]
    }
   ],
   "source": [
    "print('6COCS020W ' + 'Applied '+ 'AI' + '!'*3)\n",
    "print('applied ai'.upper())\n",
    "print(len('Artificial Intelligence'))"
   ]
  },
  {
   "cell_type": "code",
   "execution_count": 11,
   "id": "3e16268d",
   "metadata": {},
   "outputs": [
    {
     "name": "stdout",
     "output_type": "stream",
     "text": [
      "Westminster Uni has a great selection of options!\n",
      "25\n"
     ]
    }
   ],
   "source": [
    "s = 'Westminster Uni has a great selection of options!'\n",
    "print(s)\n",
    "s = 25\n",
    "print(s)"
   ]
  },
  {
   "cell_type": "code",
   "execution_count": 13,
   "id": "6a5b88b8",
   "metadata": {},
   "outputs": [
    {
     "name": "stdout",
     "output_type": "stream",
     "text": [
      "8\n",
      "Help on built-in function find:\n",
      "\n",
      "find(...) method of builtins.str instance\n",
      "    S.find(sub[, start[, end]]) -> int\n",
      "    \n",
      "    Return the lowest index in S where substring sub is found,\n",
      "    such that sub is contained within S[start:end].  Optional\n",
      "    arguments start and end are interpreted as in slice notation.\n",
      "    \n",
      "    Return -1 on failure.\n",
      "\n"
     ]
    }
   ],
   "source": [
    "s = 'Applied AI'\n",
    "print(s.find('AI'))\n",
    "help(s.find)"
   ]
  },
  {
   "cell_type": "code",
   "execution_count": 14,
   "id": "e17389df",
   "metadata": {},
   "outputs": [
    {
     "name": "stdout",
     "output_type": "stream",
     "text": [
      "Help on built-in function lower:\n",
      "\n",
      "lower() method of builtins.str instance\n",
      "    Return a copy of the string converted to lowercase.\n",
      "\n"
     ]
    }
   ],
   "source": [
    "s = 'ai'\n",
    "help(s.lower)"
   ]
  },
  {
   "cell_type": "code",
   "execution_count": 15,
   "id": "eb9627e3",
   "metadata": {},
   "outputs": [
    {
     "name": "stdout",
     "output_type": "stream",
     "text": [
      "red\n",
      "blue\n",
      "purple\n",
      "['yellow', 'green']\n"
     ]
    }
   ],
   "source": [
    "colours = ['red', 'orange', 'yellow', 'green', 'blue']\n",
    "print(colours[0])\n",
    "print(colours[-1])\n",
    "colours[0] = 'purple'\n",
    "print(colours[0])\n",
    "print(colours[2:4])"
   ]
  },
  {
   "cell_type": "code",
   "execution_count": 16,
   "id": "4c817bfe",
   "metadata": {},
   "outputs": [
    {
     "name": "stdout",
     "output_type": "stream",
     "text": [
      "Point(2, 3)\n"
     ]
    }
   ],
   "source": [
    "point = (2,3)\n",
    "x,y = point\n",
    "print(f'Point({x}, {y})')"
   ]
  },
  {
   "cell_type": "code",
   "execution_count": 18,
   "id": "f4f353e2",
   "metadata": {},
   "outputs": [
    {
     "name": "stdout",
     "output_type": "stream",
     "text": [
      "{'chair', 'table', 'spoon'} {'bed', 'chair', 'spoon', 'plate'}\n",
      "True\n",
      "{'chair', 'spoon'}\n",
      "{'bed', 'chair', 'plate', 'spoon', 'table'}\n"
     ]
    }
   ],
   "source": [
    "room1 = {'chair', 'table', 'spoon'}\n",
    "room2 = {'chair', 'bed', 'plate', 'spoon'}\n",
    "print(room1, room2)\n",
    "print('spoon' in room1)\n",
    "print(room1.intersection(room2))\n",
    "print(room1.union(room2))"
   ]
  },
  {
   "cell_type": "code",
   "execution_count": 21,
   "id": "5ff9b6dc",
   "metadata": {},
   "outputs": [
    {
     "name": "stdout",
     "output_type": "stream",
     "text": [
      "3\n",
      "I ordered 8 oranges\n",
      "dict_keys(['apples', 'oranges', 'lemons']) dict_values([5, 8, 2])\n"
     ]
    }
   ],
   "source": [
    "order = {'apples': 5, 'oranges':3, 'lemons':2}\n",
    "print(order['oranges'])\n",
    "order['oranges'] += 5\n",
    "print(f\"I ordered {order['oranges']} oranges\")\n",
    "print(order.keys(), order.values())"
   ]
  },
  {
   "cell_type": "code",
   "execution_count": 22,
   "id": "c78f45f0",
   "metadata": {},
   "outputs": [
    {
     "name": "stdout",
     "output_type": "stream",
     "text": [
      "Enter your name: Shenal\n",
      "Hello Shenal\n"
     ]
    }
   ],
   "source": [
    "a = input(\"Enter your name: \")\n",
    "print(f\"Hello {a}\")"
   ]
  },
  {
   "cell_type": "code",
   "execution_count": 23,
   "id": "6e20fd8d",
   "metadata": {},
   "outputs": [
    {
     "name": "stdout",
     "output_type": "stream",
     "text": [
      "The rain fell on the car. The rain fell on the ground.\n",
      "\n"
     ]
    }
   ],
   "source": [
    "f = open('file.txt', 'r')\n",
    "print(f.read())"
   ]
  },
  {
   "cell_type": "code",
   "execution_count": 24,
   "id": "26ea517c",
   "metadata": {},
   "outputs": [
    {
     "name": "stdout",
     "output_type": "stream",
     "text": [
      "0\n",
      "1\n",
      "2\n",
      "3\n",
      "4\n",
      "5\n",
      "6\n",
      "7\n",
      "8\n",
      "9\n"
     ]
    }
   ],
   "source": [
    "for n in range(10):\n",
    "        print(n)"
   ]
  },
  {
   "cell_type": "code",
   "execution_count": 25,
   "id": "b0dfc255",
   "metadata": {},
   "outputs": [
    {
     "name": "stdout",
     "output_type": "stream",
     "text": [
      "3\n",
      "4\n",
      "5\n",
      "6\n",
      "7\n",
      "8\n",
      "9\n"
     ]
    }
   ],
   "source": [
    "for n in range(3,10):\n",
    "    print(n)"
   ]
  },
  {
   "cell_type": "code",
   "execution_count": 26,
   "id": "15e34955",
   "metadata": {},
   "outputs": [
    {
     "name": "stdout",
     "output_type": "stream",
     "text": [
      "3\n",
      "5\n",
      "7\n",
      "9\n"
     ]
    }
   ],
   "source": [
    "for n in range(3,10,2):\n",
    "    print(n)"
   ]
  },
  {
   "cell_type": "code",
   "execution_count": 30,
   "id": "9df56a6c",
   "metadata": {},
   "outputs": [
    {
     "name": "stdout",
     "output_type": "stream",
     "text": [
      "[0, 2, 4, 6, 8]\n"
     ]
    }
   ],
   "source": [
    "evens = [x for x in range(10) if x%2 == 0]\n",
    "print(evens)"
   ]
  },
  {
   "cell_type": "code",
   "execution_count": 33,
   "id": "4fc00d61",
   "metadata": {},
   "outputs": [
    {
     "name": "stdout",
     "output_type": "stream",
     "text": [
      "[1, 9, 25, 49, 81]\n"
     ]
    }
   ],
   "source": [
    "squared_odd = [ x*x for x in range(10) if x%2 == 1]\n",
    "print(squared_odd)"
   ]
  },
  {
   "cell_type": "code",
   "execution_count": 34,
   "id": "52e2b718",
   "metadata": {},
   "outputs": [],
   "source": [
    "class FruitShop:\n",
    "    def __init__(self, name, fruitPrices):\n",
    "        \"\"\"\n",
    "        name: Name of the fruit shop\n",
    "        fruitPrices: Dictionary with keys as fruit\n",
    "        {'apples': 2.00, 'orange': 1.50, 'pears': '1.75'}\n",
    "        \"\"\"\n",
    "        self.fruitPrices = fruitPrices\n",
    "        self.name = name\n",
    "        print('Welcome to %s fruit shop', (name))\n",
    "        \n",
    "    def getCostPerPound(self, fruit):\n",
    "        \"\"\"\n",
    "        fruit: Fruit string returns cost of 'fruit'\n",
    "        is in our inventory or None otherwise\n",
    "        \"\"\"\n",
    "        if fruit not in self.fruitPrices:\n",
    "            return none\n",
    "        return self.fruitPrices[fruit]\n",
    "    \n",
    "    def getPriceOfOrder(self, orderList):\n",
    "        \"\"\"\n",
    "        orderList: list of (fruit, numPounds) tuples\n",
    "        returns cost of the orderList, only including the values of\n",
    "        fruits that this fruit shp has\n",
    "        \"\"\"\n",
    "        totalCost = 0.0\n",
    "        for fruit, numPounds in orderList:\n",
    "            costPerPound = self.getCostPerPound(fruit)\n",
    "            if costPerPound != None:\n",
    "                totalCost += numPounds * costPerPound\n",
    "        return totalCost\n",
    "    \n",
    "    def getName(self):\n",
    "        return self.name"
   ]
  },
  {
   "cell_type": "code",
   "execution_count": 38,
   "id": "56f26872",
   "metadata": {},
   "outputs": [
    {
     "name": "stdout",
     "output_type": "stream",
     "text": [
      "Welcome to %s fruit shop the Berkeley Bowl\n",
      "1.0\n",
      "Apples cost $1.00 at the Berkeley Bowl.\n",
      "Welcome to %s fruit shop the stanford Mall\n",
      "4.5\n",
      "Apples cost $4.50 at the stanford Mall.\n",
      "My, that's expensive!\n"
     ]
    }
   ],
   "source": [
    "shopName = 'the Berkeley Bowl'\n",
    "fruitPrices = {'apples': 1.00, 'oranges': 1.50, 'pears': 1.75}\n",
    "berkeleyShop = FruitShop(shopName, fruitPrices)\n",
    "applePrice = berkeleyShop.getCostPerPound('apples')\n",
    "print(applePrice)\n",
    "print('Apples cost $%.2f at %s.' % (applePrice, shopName))\n",
    "\n",
    "otherName = 'the stanford Mall'\n",
    "otherFruitPrices = { 'kiwis': 6.00, 'apples': 4.50, 'peaches': 8.75}\n",
    "otherFruitShop = FruitShop(otherName,otherFruitPrices)\n",
    "otherPrice = otherFruitShop.getCostPerPound('apples')\n",
    "print(otherPrice)\n",
    "print('Apples cost $%.2f at %s.' % (otherPrice, otherName))\n",
    "print(\"My, that's expensive!\")"
   ]
  },
  {
   "cell_type": "code",
   "execution_count": 39,
   "id": "0f500cd1",
   "metadata": {},
   "outputs": [],
   "source": [
    "import numpy as np"
   ]
  },
  {
   "cell_type": "code",
   "execution_count": 41,
   "id": "3648837e",
   "metadata": {},
   "outputs": [
    {
     "name": "stdout",
     "output_type": "stream",
     "text": [
      "[0 1 2]\n"
     ]
    }
   ],
   "source": [
    "a = np.arange(3)\n",
    "print(a)"
   ]
  },
  {
   "cell_type": "code",
   "execution_count": 43,
   "id": "c7ddeeea",
   "metadata": {},
   "outputs": [
    {
     "name": "stdout",
     "output_type": "stream",
     "text": [
      "[[[ 0  1  2  3]\n",
      "  [ 4  5  6  7]\n",
      "  [ 8  9 10 11]]\n",
      "\n",
      " [[12 13 14 15]\n",
      "  [16 17 18 19]\n",
      "  [20 21 22 23]]]\n"
     ]
    }
   ],
   "source": [
    "c = np.arange(24).reshape(2,3,4)\n",
    "print(c)"
   ]
  },
  {
   "cell_type": "code",
   "execution_count": 44,
   "id": "35f597b7",
   "metadata": {},
   "outputs": [
    {
     "data": {
      "text/plain": [
       "array([0, 1, 4])"
      ]
     },
     "execution_count": 44,
     "metadata": {},
     "output_type": "execute_result"
    }
   ],
   "source": [
    "a**2"
   ]
  },
  {
   "cell_type": "code",
   "execution_count": 45,
   "id": "6c691ec1",
   "metadata": {},
   "outputs": [
    {
     "data": {
      "text/plain": [
       "array([[[  0,   1,   4,   9],\n",
       "        [ 16,  25,  36,  49],\n",
       "        [ 64,  81, 100, 121]],\n",
       "\n",
       "       [[144, 169, 196, 225],\n",
       "        [256, 289, 324, 361],\n",
       "        [400, 441, 484, 529]]])"
      ]
     },
     "execution_count": 45,
     "metadata": {},
     "output_type": "execute_result"
    }
   ],
   "source": [
    "c**2"
   ]
  },
  {
   "cell_type": "code",
   "execution_count": null,
   "id": "738fb1d2",
   "metadata": {},
   "outputs": [],
   "source": []
  }
 ],
 "metadata": {
  "kernelspec": {
   "display_name": "Python 3 (ipykernel)",
   "language": "python",
   "name": "python3"
  },
  "language_info": {
   "codemirror_mode": {
    "name": "ipython",
    "version": 3
   },
   "file_extension": ".py",
   "mimetype": "text/x-python",
   "name": "python",
   "nbconvert_exporter": "python",
   "pygments_lexer": "ipython3",
   "version": "3.9.12"
  }
 },
 "nbformat": 4,
 "nbformat_minor": 5
}
